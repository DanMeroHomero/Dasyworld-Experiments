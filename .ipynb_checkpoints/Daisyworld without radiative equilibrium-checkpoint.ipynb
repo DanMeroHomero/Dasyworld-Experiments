{
 "cells": [
  {
   "cell_type": "markdown",
   "metadata": {},
   "source": [
    "#  Daisyworld without radiative equilibrium\n",
    "\n",
    "In this notebook we will review the modified Daisyworld model created by Nevson et. al (1999). These authors changed the original model in order to make it more realistic.The original Dasyworld model assumes that this planet is in a perfect radiative balance, so the incoming radiation to the planet is exactly equal to the outgoing radiation. However, this is an unrealistic assumption. As the authors say, the \"Earth is well known to be in imperfect balance, both spatially and temporally, between incoming solar and outgoing longwave radiation\".\n",
    "\n",
    "In order to add this feature to the model, these authors replaced the equation 4 of the original Daisywolrd notebook with an ordinary differential equation that describes the chage in the effective temperature of the Earth. So the original equation 4 becomes:\n",
    "\n",
    "\\begin{equation} \\tag{4}\n",
    "c_p (\\frac{dT_e}{dt}) = SL(1 - A) - \\sigma {T_e}^4\n",
    "\\end{equation}\n",
    "\n",
    "where c_p is a measure of the thermal inertial of the planet"
   ]
  }
 ],
 "metadata": {
  "kernelspec": {
   "display_name": "Python 3",
   "language": "python",
   "name": "python3"
  },
  "language_info": {
   "codemirror_mode": {
    "name": "ipython",
    "version": 3
   },
   "file_extension": ".py",
   "mimetype": "text/x-python",
   "name": "python",
   "nbconvert_exporter": "python",
   "pygments_lexer": "ipython3",
   "version": "3.7.4"
  }
 },
 "nbformat": 4,
 "nbformat_minor": 2
}
