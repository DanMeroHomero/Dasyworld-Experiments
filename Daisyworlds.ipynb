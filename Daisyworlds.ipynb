{
 "cells": [
  {
   "cell_type": "markdown",
   "metadata": {},
   "source": [
    "# Solving the Diasywolrd Model \n",
    "\n",
    "In these notebook I will solve original the Daisyworld model proposed by Lovelock and Waston (1984).\n",
    "\n",
    "### Equations\n",
    "\n",
    "Daisyworld is a model of a planet with only two types of living beings: white and black Daisies. The growth of this daisies is governed by the following equation:\n",
    "\n",
    "\\begin{equation}\n",
    "\\frac{d \\alpha_i}{d t} = \\alpha_i (x \\beta - \\gamma)\n",
    "\\end{equation}\n",
    "\n",
    "Where $\\alpha_i$ is the fraction of area of the planet covered by white ($\\alpha_w$) or black ($\\alpha_b$) daisies, $x$ is the fraction of area of fertile ground not covered by daisies, $\\beta$ is the growth rate of daisies per unit of time, and $\\gamma$ is the death rate. \n",
    "\n",
    "The are of free fertile ground is given by:\n",
    "\n",
    "\\begin{equation}\n",
    "x = p - a_i\n",
    "\\end{equation}\n",
    "\n",
    "where $p$ is the proportion of the planet that is fertile ground. The death rate $\\beta$ is given by a parabolic function that is zero out of the range between 5°C and 40°C, and reaches its maximum at 22.5°C\n",
    "\n",
    "\\begin{equation}\n",
    "\\beta = 1 - 0.003265(22.5 - T_i)\n",
    "\\end{equation} \n",
    "\n",
    "where T_i is the temperature of the daisies. The temperature of the planet Daisywolrd id given by the radiative equilibrium equation:\n",
    "\n",
    "\\begin{equation}\n",
    "\\sigma (T_e + 273)^4 = S L (1 -A)\n",
    "\\end{equation} \n",
    "\n",
    "Here, $\\sigma$ is the Steffan-Botlzman constant, $S$ is a flux constant, L is an dimensionless number that measures the measures the luminosity of Daisyworld's sun.\n",
    "\n",
    "$A = \\sum \\alpha_i A_i = \\alpha_w A_w + \\alpha_b A_b + \\alpha_g A_g $ is the total albedo of the planet. This albedo is the sum of the albedos of the the daisies and the free ground multiplied for the fraction of area that they occupy. Note that $\\alpha_g = 1 - \\alpha_w  - \\alpha_b$. It is interesting that Lovelock and Watson mention that this equation only holds for a flat or cylindrical planet. I suppose this is because a spherical surface has a larger area than a flat one. Thus,in a spherical surface the contribution for the total albedo would be larger.\n",
    "\n",
    "Finally, the authors model the temperature of the daisies with the following equation:\n",
    "\n",
    "\\begin{equation}\n",
    "(T_i + 273)^4 = q(A -A_i) + (T_e + 273)^4\n",
    "\\end{equation} \n",
    "\n",
    "The authors provide the following justification for this equation. First, this equation makes sure that the temperature of the black daisies is greater than the temperature of the ground, which in turn, is grater that the temperature of the white daisies. This petter in expected because of the color of the daisies. Second, this equation makes sure that the total radiation lost to space is equal to the radiation lost to space in each area of daisies and ground. In other words, this equation makes sure that energy is conserved.\n",
    "\n",
    "To see this, let's start with the sum of the lost radiation in each area: $F = \\sum \\alpha_i \\sigma (T + 273)$. We can now use equation 5 to obtain $\\sigma q A \\sum \\alpha_i - \\sigma q A_i \\sum \\alpha_i + \\sum \\alpha_i \\sigma (T_e + 273)^4$. Now, since the sum of all the albedos is equals to one ($\\sum \\alpha_i = 1$), and $A = \\sum \\alpha_i A_i$, the first two terms cancel out and we get: $F = \\sigma (T_e + 273)^4 $, which is the energy lost to space from Daisyworld. \n",
    "\n"
   ]
  },
  {
   "cell_type": "markdown",
   "metadata": {},
   "source": [
    "### Solving the equations\n",
    "\n",
    "We can solve this equations using numerical methods. We can user the Euler method, or the Runge-Kutta methods. Here we will implement this methods in python."
   ]
  }
 ],
 "metadata": {
  "kernelspec": {
   "display_name": "Python 3",
   "language": "python",
   "name": "python3"
  },
  "language_info": {
   "codemirror_mode": {
    "name": "ipython",
    "version": 3
   },
   "file_extension": ".py",
   "mimetype": "text/x-python",
   "name": "python",
   "nbconvert_exporter": "python",
   "pygments_lexer": "ipython3",
   "version": "3.7.4"
  }
 },
 "nbformat": 4,
 "nbformat_minor": 2
}
