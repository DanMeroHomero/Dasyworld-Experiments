{
 "cells": [
  {
   "cell_type": "markdown",
   "metadata": {},
   "source": [
    "# Solving the Diasywolrd Model \n",
    "\n",
    "In these notebook I will solve original the Daisyworld model proposed by Lovelock and Waston (1984).\n",
    "\n",
    "### Equations\n",
    "\n",
    "Daisyworld is a model of a planet with only two types of living beings: white and black Daisies. The growth of this daisies is governed by the following equation:\n",
    "\n",
    "\\begin{equation}\n",
    "\\frac{d \\alpha_i}{d t} = \\alpha_i (x \\beta - \\gamma)\n",
    "\\end{equation}\n",
    "\n",
    "Where $\\alpha_i$ is the fraction of area of the planet covered by white ($\\alpha_w$) or black ($\\alpha_b$) daisies, $x$ is the fraction of area of fertile ground not covered by daisies, $\\beta$ is the growth rate of daisies per unit of time, and $\\gamma$ is the death rate. \n",
    "\n",
    "The are of free fertile ground is given by:\n",
    "\n",
    "\\begin{equation}\n",
    "x = p - a_i\n",
    "\\end{equation}\n",
    "\n",
    "where $p$ is the proportion of the planet that is fertile ground. The death rate $\\beta$ is given by a parabolic function that is zero out of the range between 5°C and 40°C, and reaches its maximum at 22.5°C\n",
    "\n",
    "\\begin{equation}\n",
    "\\beta = 1 - 0.003265(22.5 - T_i)\n",
    "\\end{equation} \n",
    "\n",
    "where T_i is the temperature of the daisies. The temperature of the planet Daisywolrd id given by the radiative equilibrium equation:\n",
    "\n",
    "\\begin{equation}\n",
    "\\sigma (T_e + 273)^4 = S L (1 -A)\n",
    "\\end{equation} \n",
    "\n",
    "Here, $\\sigma$ is the Steffan-Botlzman constant, $S$ is a flux constant, L is an dimensionless number that measures the measures the luminosity of Daisyworld's sun.\n",
    "\n",
    "$A = \\sum \\alpha_i A_i = \\alpha_w A_w + \\alpha_b A_b + \\alpha_g A_g $ is the total albedo of the planet. This albedo is the sum of the albedos of the the daisies and the free ground multiplied for the fraction of area that they occupy. Note that $\\alpha_g = 1 - \\alpha_w  - \\alpha_b$. It is interesting that Lovelock and Watson mention that this equation only holds for a flat or cylindrical planet. I suppose this is because a spherical surface has a larger area than a flat one. Thus,in a spherical surface the contribution for the total albedo would be larger.\n",
    "\n",
    "Finally, the authors model the temperature of the daisies with the following equation:\n",
    "\n",
    "\\begin{equation}\n",
    "(T_i + 273)^4 = q(A -A_i) + (T_e + 273)^4\n",
    "\\end{equation} \n",
    "\n",
    "The authors provide the following justification for this equation. First, this equation makes sure that the temperature of the black daisies is greater than the temperature of the ground, which in turn, is grater that the temperature of the white daisies. This petter in expected because of the color of the daisies. Second, this equation makes sure that the total radiation lost to space is equal to the radiation lost to space in each area of daisies and ground. In other words, this equation makes sure that energy is conserved.\n",
    "\n",
    "To see this, let's start with the sum of the lost radiation in each area: $F = \\sum \\alpha_i \\sigma (T + 273)$. We can now use equation 5 to obtain $\\sigma q A \\sum \\alpha_i - \\sigma q A_i \\sum \\alpha_i + \\sum \\alpha_i \\sigma (T_e + 273)^4$. Now, since the sum of all the albedos is equals to one ($\\sum \\alpha_i = 1$), and $A = \\sum \\alpha_i A_i$, the first two terms cancel out and we get: $F = \\sigma (T_e + 273)^4 $, which is the energy lost to space from Daisyworld. \n",
    "\n"
   ]
  },
  {
   "cell_type": "markdown",
   "metadata": {},
   "source": [
    "### Solving the equations\n",
    "\n",
    "We can solve this equations using numerical methods. We can user the Euler method, or the Runge-Kutta methods. Here we will implement this methods in python.\n",
    "\n",
    "#### Euler method\n",
    "\n",
    "The Euler method consist in making linear approximations to solve an ordinary differential equation of the form $\\frac{dx}{dt} = f(x, t)$.  WE start at an initial point. We know that at this point the function f(x,y) gives us the slope of a line tangent to the solution curve. Thus, we can take a small step in this direction, and then recalculate the slope at some other point. In this way, we can approximate the solution by taking small temps in the direction of the lines given by the derivative. This is represented by the equation:\n",
    "\n",
    "\\begin{equation*}\n",
    "x_{n+1} = x_{n} + f(x,t) * h\n",
    "\\end{equation*} \n",
    "\n",
    "Where $h = t_{n+1}-t_{n}$ is the size of the step. Let's implement this in python."
   ]
  },
  {
   "cell_type": "code",
   "execution_count": 26,
   "metadata": {},
   "outputs": [],
   "source": [
    "def euler_method_next(x0, t0, f, h):\n",
    "    '''\n",
    "    This function uses the eluer method to solve an ordinary differential equation.\n",
    "    INPUT:\n",
    "        x0(float): x initial condition\n",
    "        t0(float): t initial condition\n",
    "        f (function): function defining the derivative dx/dt = f\n",
    "        h (float): step\n",
    "    OUTPUT:\n",
    "        y (numpy array): value of y at next step\n",
    "    '''\n",
    "    return x0 + f(x0, t0) * h"
   ]
  },
  {
   "cell_type": "markdown",
   "metadata": {},
   "source": [
    "####  Runge-Kutta methods\n",
    "\n",
    "The Runge-Kutta methods also allow us to solve ordinary differential equations. In particular the method of fourth order, known as 'RK4', introduces a series of corrections to the Euler methods, allowing us to make more precise approximations. This method consists in correcting the euler's method with the following terms:\n",
    "\n",
    "\\begin{equation*}\n",
    "x_{n+1} = x_n + \\frac{k1}{6} + \\frac{k2}{3} + \\frac{k3}{3} + \\frac{k4}{2}\n",
    "\\end{equation*}\n",
    "\n",
    "Where, $k_1 = h  f(x_n, t_n)$, $k_2 = h f(x_n + \\frac{h}{2}, t_n + \\frac{k_1}{2})$, $k_3 = h f (x_n + \\frac{h}{2}, t_n + \\frac{k2}{2})$, and $k_4 = h f(x_n + h, t_n + k_3)$."
   ]
  },
  {
   "cell_type": "code",
   "execution_count": 27,
   "metadata": {},
   "outputs": [],
   "source": [
    "def RK4_next(x0, t0, f, h):\n",
    "    '''\n",
    "    This function uses the RK4 method to solve an ordinary differential equation.\n",
    "    INPUT:\n",
    "        x0(float): x initial condition\n",
    "        t0(float): t initial condition\n",
    "        f (function): function defining the derivative dx/dt = f\n",
    "        h (float): step\n",
    "    OUTPUT:\n",
    "        y (numpy array): value of y at next step\n",
    "    '''\n",
    "    k1 = h * f(x0, t0) \n",
    "    k2 = h * f(x0 + 0.5 * h, t0 + 0.5 * k1) \n",
    "    k3 = h * f(x0 + 0.5 * h, t0 + 0.5 * k2) \n",
    "    k4 = h * f(x0 + h, t0 + k3) \n",
    "    return x0 + (1.0 / 6.0)*(k1 + 2 * k2 + 2 * k3 + k4) \n"
   ]
  },
  {
   "cell_type": "markdown",
   "metadata": {},
   "source": [
    "Now we can solve the model. We are interested in the effect of the increase of solar luminosity in the life of Daisyworld and in the local and global temperatures."
   ]
  },
  {
   "cell_type": "code",
   "execution_count": 157,
   "metadata": {},
   "outputs": [],
   "source": [
    "import numpy as np\n",
    "\n",
    "class Original_Daisyworld():\n",
    "    q = 20 # Heat Transfer Coefficien\n",
    "    sigma = 5.6704e-5  #Stefan-Boltzman Constant\n",
    "    S = 9.17e+5  # Solar constant\n",
    "    L = 0.5 # Solar luminosity constant\n",
    "    \n",
    "    def __init__(self\n",
    "                ,death_rate =.3 #death rate of daysies\n",
    "                ,albedo_w=0.75  #white daysies albedo\n",
    "                ,albedo_g=0.5  #Free ground albedo      \n",
    "                ,albedo_b=0.25  #Black daysies albedo\n",
    "                ,area_w= 0.3 # Fraction area of white daisies\n",
    "                ,area_b= 0.3 # Fraction area of black daisies\n",
    "                ):\n",
    "        'Initilize all the constants and variables'\n",
    "        self.death_rate = death_rate\n",
    "        self.albedo_w = albedo_w\n",
    "        self.albedo_g = albedo_g\n",
    "        self.albedo_b = albedo_b\n",
    "        self.area_w = area_w\n",
    "        self.area_b = area_b\n",
    "        self.area_g = 1 - self.area_b - self.area_w \n",
    "        self.albedo_total = self.area_w * self.albedo_w + self.area_b * self.albedo_b + self.area_g * self.albedo_g\n",
    "        self.Te = ((self.S * self.L * (1- self.albedo_total) / self.sigma) ** 0.25)- 273\n",
    "        self.Tw = self.q*(self.albedo_total-self.albedo_w)+ self.Te \n",
    "        self.Tb = self.q*(self.albedo_total-self.albedo_b)+ self.Te \n",
    "        self.Bw = 1 -0.003265 * ((22.5-self.Tw)**2)\n",
    "        self.Bb = 1 -0.003265 * ((22.5-self.Tb)**2)\n",
    "        \n",
    "    def update_area_g(self):\n",
    "        'Calclate area of free ground'\n",
    "        self.area_g = 1 - self.area_b - self.area_w \n",
    "        return self.area_g\n",
    "    \n",
    "    def update_albedo_total(self):\n",
    "        self.albedo_total = self.area_w * self.albedo_w + self.area_b * self.albedo_b + self.area_g * self.albedo_g\n",
    "\n",
    "    \n",
    "    def update_global_temp(self):\n",
    "        self.Te = ((self.S * self.L * (1- self.albedo_total) / self.sigma) ** 0.25)- 273\n",
    "\n",
    "    \n",
    "    def update_daisies_temp(self):\n",
    "        self.Tw = self.q*(self.albedo_total-self.albedo_w)+ self.Te \n",
    "        self.Tb = self.q*(self.albedo_total-self.albedo_b)+ self.Te \n",
    "        \n",
    "    \n",
    "    def update_growth_rate(self):\n",
    "        self.Bw = 1 -0.003265 * ((22.5-self.Tw)**2)\n",
    "        self.Bb = 1 -0.003265 * ((22.5-self.Tb)**2)\n",
    "    \n",
    "    \n",
    "    def solve_model(self, iteartions, h):\n",
    "        for i in range(iteartions):\n",
    "            self.area_w += h * self.area_w * (self.Bw * self.area_g -self.death_rate)\n",
    "            self.area_b += h * self.area_b * (self.Bb * self.area_g -self.death_rate)\n",
    "            self.update_area_g()\n",
    "            self.update_albedo_total()\n",
    "            self.update_global_temp()\n",
    "            self.update_daisies_temp()\n",
    "            self.update_growth_rate()\n",
    "            \n",
    "       \n",
    "    def change_luminosity(self, L):\n",
    "        '''\n",
    "        Change the sola luminosity in the model\n",
    "        INPUT:\n",
    "            self: Daisywolrd class\n",
    "            L (lIST): list describing change in luminosity.\n",
    "        '''\n",
    "        n = len(L)\n",
    "        h = 0.1\n",
    "        iterations = 1000\n",
    "        TE = []\n",
    "        A_W = []\n",
    "        A_B = []\n",
    "        A_G = []\n",
    "        for i in range(n):\n",
    "            model = Original_Daisyworld()\n",
    "            #print(model.area_w)\n",
    "            model.L = L[i]\n",
    "            model.solve_model(iterations, h)\n",
    "            #print(model.area_w)\n",
    "            A_W.append(model.area_w)\n",
    "            A_B.append(model.area_b)\n",
    "            A_G.append(model.area_g)\n",
    "            TE.append(model.Te)\n",
    "        return (np.array(TE), np.array(A_W), np.array(A_B), np.array(A_G))\n"
   ]
  },
  {
   "cell_type": "code",
   "execution_count": 112,
   "metadata": {},
   "outputs": [
    {
     "data": {
      "text/plain": [
       "9.281003072974915e-230"
      ]
     },
     "execution_count": 112,
     "metadata": {},
     "output_type": "execute_result"
    }
   ],
   "source": [
    "model = Original_Daisyworld()\n",
    "\n",
    "model.solve_model(1000,.1)\n",
    "model.area_b\n"
   ]
  },
  {
   "cell_type": "code",
   "execution_count": 105,
   "metadata": {},
   "outputs": [
    {
     "name": "stdout",
     "output_type": "stream",
     "text": [
      "0.21144089291509388\n",
      "0.24540315593206152\n"
     ]
    }
   ],
   "source": [
    "model = Original_Daisyworld()\n",
    "model.area_w\n",
    "model.area_w += 0.1 * model.area_w * (model.Bw * model.area_g -model.death_rate)\n",
    "print(model.area_w)\n",
    "model.area_b += 0.1 * model.area_b * (model.Bb * model.area_g -model.death_rate)\n",
    "print(model.area_b)\n",
    "model.area_g = 1-model.area_w -model.area_b\n",
    "model.albedo_total =model.area_w * model.albedo_w + model.area_b * model.albedo_b + model.area_g * model.albedo_g\n"
   ]
  },
  {
   "cell_type": "code",
   "execution_count": 162,
   "metadata": {},
   "outputs": [
    {
     "name": "stdout",
     "output_type": "stream",
     "text": [
      "100\n"
     ]
    },
    {
     "data": {
      "text/plain": [
       "100"
      ]
     },
     "execution_count": 162,
     "metadata": {},
     "output_type": "execute_result"
    }
   ],
   "source": [
    "model = Original_Daisyworld()\n",
    "L = np.arange(.5,1.5,0.01)\n",
    "TE,ALPHA_W,ALPHA_B,AG = model.change_luminosity(L)\n",
    "print(len(L))\n",
    "len(ALPHA_B)"
   ]
  },
  {
   "cell_type": "code",
   "execution_count": 163,
   "metadata": {},
   "outputs": [
    {
     "data": {
      "image/png": "[encoded data removed]",
      "text/plain": [
       "<Figure size 432x288 with 1 Axes>"
      ]
     },
     "metadata": {
      "needs_background": "light"
     },
     "output_type": "display_data"
    },
    {
     "data": {
      "image/png": "[encoded data removed]",
      "text/plain": [
       "<Figure size 432x288 with 1 Axes>"
      ]
     },
     "metadata": {
      "needs_background": "light"
     },
     "output_type": "display_data"
    }
   ],
   "source": [
    "import matplotlib.pyplot as plt\n",
    "fig, ax = plt.subplots()\n",
    "ax.plot(L,ALPHA_B, 'k',linewidth=3, label='Negras')\n",
    "ax.plot(L,ALPHA_W, 'g',linewidth=3,label='Blancas')\n",
    "ax.plot(L,ALPHA_B+ALPHA_W, 'k--',linewidth=3,label='Suma')\n",
    "plt.xlabel('Aumento en la luminosidad solar $L$', fontsize=18)\n",
    "plt.ylabel(r'Porcentaje de área $\\alpha_i$', fontsize=18)\n",
    "plt.title('Figura 2a', fontsize=20)\n",
    "plt.axis([0.4, 1.8, -0.1, 0.8])\n",
    "#plt.plot(L1,ALPHA_B, 'k', L1, ALPHA_W, 'g', L1, ALPHA_B+ALPHA_W, 'k--',lw=3)\n",
    "legend = ax.legend(loc=1, shadow=True)\n",
    "frame = legend.get_frame()\n",
    "frame.set_facecolor('0.90')\n",
    "# Set the fontsize\n",
    "for label in legend.get_texts():\n",
    "    label.set_fontsize('large')\n",
    "\n",
    "for label in legend.get_lines():\n",
    "    label.set_linewidth(1.5)  # the legend line width\n",
    "    \n",
    "plt.show()\n",
    "\n",
    "\n",
    "\n",
    "fig, ax = plt.subplots()\n",
    "ax.plot(L,TE, 'g',linewidth=3, label='Con margaritas')\n",
    "#ax.plot(L,Te1, 'k--',linewidth=3,label='Sin margaritas')\n",
    "\n",
    "plt.xlabel('Aumento en la luminosidad solar $L$', fontsize=18)\n",
    "plt.ylabel('Temperatura $T $ [$^\\circ C$]', fontsize=18)\n",
    "plt.title('Figura 2b', fontsize=20)\n",
    "plt.axis([0.4, 1.6, -30, 70])\n",
    "#plt.plot(L1,ALPHA_B, 'k', L1, ALPHA_W, 'g', L1, ALPHA_B+ALPHA_W, 'k--',lw=3)\n",
    "legend = ax.legend(loc=4, shadow=True)\n",
    "frame = legend.get_frame()\n",
    "frame.set_facecolor('0.90')\n",
    "# Set the fontsize\n",
    "for label in legend.get_texts():\n",
    "    label.set_fontsize('large')\n",
    "\n",
    "for label in legend.get_lines():\n",
    "    label.set_linewidth(1.5)  # the legend line width\n",
    "    \n",
    "plt.show()"
   ]
  },
  {
   "cell_type": "code",
   "execution_count": 161,
   "metadata": {},
   "outputs": [
    {
     "data": {
      "text/plain": [
       "array([1.        , 1.        , 1.        , 1.        , 1.        ,\n",
       "       1.        , 1.        , 1.        , 1.        , 1.        ,\n",
       "       1.        , 1.        , 1.        , 1.        , 1.        ,\n",
       "       1.        , 1.        , 1.        , 0.30022783, 0.30033989,\n",
       "       0.30253109, 0.3065302 , 0.31197953, 0.31795905, 0.32277013,\n",
       "       0.32535062, 0.32630052, 0.32657323, 0.32664222, 0.32665879,\n",
       "       0.32666271, 0.32666364, 0.32666387, 0.32666393, 0.32666394,\n",
       "       0.32666394, 0.32666394, 0.32666394, 0.32666394, 0.32666394,\n",
       "       0.32666394, 0.32666394, 0.32666394, 0.32666394, 0.32666394,\n",
       "       0.32666394, 0.32666394, 0.32666394, 0.32666394, 0.32666394,\n",
       "       0.32666394, 0.32666394, 0.32666394, 0.32666394, 0.32666394,\n",
       "       0.32666394, 0.32666394, 0.32666394, 0.32666394, 0.32666394,\n",
       "       0.32666394, 0.32666394, 0.32666394, 0.32666394, 0.32666394,\n",
       "       0.32666394, 0.32666395, 0.32666395, 0.32666397, 0.32666403,\n",
       "       0.32666418, 0.32666462, 0.32666585, 0.32666939, 0.32667997,\n",
       "       0.32671427, 0.32684296, 0.32749446, 0.33403477, 1.        ,\n",
       "       1.        , 1.        , 1.        , 1.        , 1.        ,\n",
       "       1.        , 1.        , 1.        , 1.        , 1.        ,\n",
       "       1.        , 1.        , 1.        , 1.        , 1.        ,\n",
       "       1.        , 1.        , 1.        , 1.        , 1.        ])"
      ]
     },
     "execution_count": 161,
     "metadata": {},
     "output_type": "execute_result"
    }
   ],
   "source": [
    "TE"
   ]
  }
 ],
 "metadata": {
  "kernelspec": {
   "display_name": "Python 3",
   "language": "python",
   "name": "python3"
  },
  "language_info": {
   "codemirror_mode": {
    "name": "ipython",
    "version": 3
   },
   "file_extension": ".py",
   "mimetype": "text/x-python",
   "name": "python",
   "nbconvert_exporter": "python",
   "pygments_lexer": "ipython3",
   "version": "3.7.4"
  }
 },
 "nbformat": 4,
 "nbformat_minor": 2
}
